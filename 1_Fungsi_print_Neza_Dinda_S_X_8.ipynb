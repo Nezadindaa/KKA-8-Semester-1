{
  "nbformat": 4,
  "nbformat_minor": 0,
  "metadata": {
    "colab": {
      "provenance": [],
      "authorship_tag": "ABX9TyPptVbZIvZFIe/W+4w+Bknr",
      "include_colab_link": true
    },
    "kernelspec": {
      "name": "python3",
      "display_name": "Python 3"
    },
    "language_info": {
      "name": "python"
    }
  },
  "cells": [
    {
      "cell_type": "markdown",
      "metadata": {
        "id": "view-in-github",
        "colab_type": "text"
      },
      "source": [
        "<a href=\"https://colab.research.google.com/github/Nezadindaa/KKA-8-Semester-1/blob/main/1_Fungsi_print_Neza_Dinda_S_X_8.ipynb\" target=\"_parent\"><img src=\"https://colab.research.google.com/assets/colab-badge.svg\" alt=\"Open In Colab\"/></a>"
      ]
    },
    {
      "cell_type": "markdown",
      "source": [
        "menampilkan teks b"
      ],
      "metadata": {
        "id": "4iKd0lOBgIFq"
      }
    },
    {
      "cell_type": "markdown",
      "source": [
        "nama:neza dinda sasmita\n",
        "\n",
        "\n",
        "kelas:X. 8\n",
        "\n",
        "\n",
        "No absen:30"
      ],
      "metadata": {
        "id": "DDjWg61-diMI"
      }
    },
    {
      "cell_type": "markdown",
      "source": [],
      "metadata": {
        "id": "XCxM9dfqgTxH"
      }
    },
    {
      "cell_type": "markdown",
      "source": [
        "#menampilkan teks bebas"
      ],
      "metadata": {
        "id": "Sel5Eka2ggSn"
      }
    },
    {
      "cell_type": "code",
      "source": [
        "print(\"helo world!\")"
      ],
      "metadata": {
        "colab": {
          "base_uri": "https://localhost:8080/"
        },
        "id": "Ji8dveMAcfS7",
        "outputId": "437955f2-a52a-4c60-add0-165665192db1"
      },
      "execution_count": null,
      "outputs": [
        {
          "output_type": "stream",
          "name": "stdout",
          "text": [
            "helo world!\n"
          ]
        }
      ]
    },
    {
      "cell_type": "markdown",
      "source": [
        "menampilkan teks bebas"
      ],
      "metadata": {
        "id": "ftCxzdTLgCO_"
      }
    },
    {
      "cell_type": "code",
      "source": [
        "print(\"neza dinda sasmita\")"
      ],
      "metadata": {
        "id": "XorNkd0iggDL"
      },
      "execution_count": null,
      "outputs": []
    },
    {
      "cell_type": "markdown",
      "source": [
        "#menampilkan nilai variabel"
      ],
      "metadata": {
        "id": "Nxjm0Mj2iExy"
      }
    },
    {
      "cell_type": "code",
      "source": [
        "usia =15\n",
        "\n",
        "print (usia)"
      ],
      "metadata": {
        "colab": {
          "base_uri": "https://localhost:8080/"
        },
        "id": "AojnVE9FiONi",
        "outputId": "da5d6a78-1b8f-4406-eed0-94dfcd4c5472"
      },
      "execution_count": null,
      "outputs": [
        {
          "output_type": "stream",
          "name": "stdout",
          "text": [
            "15\n"
          ]
        }
      ]
    },
    {
      "cell_type": "code",
      "source": [
        "Nama =\"neza dinda sasmita\"\n",
        "\n",
        "print(Nama)"
      ],
      "metadata": {
        "colab": {
          "base_uri": "https://localhost:8080/"
        },
        "id": "mcUSzK8XjMFn",
        "outputId": "23366843-f71f-4231-df42-4628d6d3819b"
      },
      "execution_count": null,
      "outputs": [
        {
          "output_type": "stream",
          "name": "stdout",
          "text": [
            "neza dinda sasmita\n"
          ]
        }
      ]
    },
    {
      "cell_type": "code",
      "source": [
        "bb=50\n",
        "\n",
        "print(bb)"
      ],
      "metadata": {
        "colab": {
          "base_uri": "https://localhost:8080/"
        },
        "id": "N5jcRepOkBKf",
        "outputId": "7de8a25e-c0d6-4858-e602-af14fa74e96b"
      },
      "execution_count": null,
      "outputs": [
        {
          "output_type": "stream",
          "name": "stdout",
          "text": [
            "50\n"
          ]
        }
      ]
    },
    {
      "cell_type": "markdown",
      "source": [
        "#menampilkan teks bebas dan nilai variabel"
      ],
      "metadata": {
        "id": "MGhPf_64lFuI"
      }
    },
    {
      "cell_type": "code",
      "source": [
        "print(f\"perkenalkan nama saya {Nama}. \")"
      ],
      "metadata": {
        "colab": {
          "base_uri": "https://localhost:8080/"
        },
        "id": "-Z1CgXSplTe_",
        "outputId": "3c40f060-4f19-4d22-b9eb-4dcf0a12c569"
      },
      "execution_count": null,
      "outputs": [
        {
          "output_type": "stream",
          "name": "stdout",
          "text": [
            "perkenalkan nama saya neza dinda sasmita. \n"
          ]
        }
      ]
    },
    {
      "cell_type": "code",
      "source": [],
      "metadata": {
        "id": "DghZR0qamOBX"
      },
      "execution_count": null,
      "outputs": []
    },
    {
      "cell_type": "code",
      "source": [
        "print(f\"berat badan saya {bb} kg.\")"
      ],
      "metadata": {
        "colab": {
          "base_uri": "https://localhost:8080/"
        },
        "id": "MwJBuaY6l6yc",
        "outputId": "c13745d6-a229-402c-8f88-c22a54bf17c6"
      },
      "execution_count": null,
      "outputs": [
        {
          "output_type": "stream",
          "name": "stdout",
          "text": [
            "berat badan saya 50 kg.\n"
          ]
        }
      ]
    },
    {
      "cell_type": "code",
      "source": [
        "print(\"perkenalkan nama saya \" + Nama)"
      ],
      "metadata": {
        "colab": {
          "base_uri": "https://localhost:8080/"
        },
        "id": "-0EN-agZm5OT",
        "outputId": "afc4b14f-436c-473e-e0f9-2e63d63a908e"
      },
      "execution_count": null,
      "outputs": [
        {
          "output_type": "stream",
          "name": "stdout",
          "text": [
            "perkenalkan nama saya neza dinda sasmita\n"
          ]
        }
      ]
    },
    {
      "cell_type": "code",
      "source": [],
      "metadata": {
        "id": "ZBkOWmdeodne"
      },
      "execution_count": null,
      "outputs": []
    },
    {
      "cell_type": "code",
      "source": [
        "print(\"berat badan saya \" + str(bb) + \"kg. \")"
      ],
      "metadata": {
        "colab": {
          "base_uri": "https://localhost:8080/"
        },
        "id": "6tAPbqk4n796",
        "outputId": "d48509db-9755-475d-8804-7147503619e4"
      },
      "execution_count": null,
      "outputs": [
        {
          "output_type": "stream",
          "name": "stdout",
          "text": [
            "berat badan saya 50kg. \n"
          ]
        }
      ]
    },
    {
      "cell_type": "code",
      "source": [],
      "metadata": {
        "id": "y7EEdP4XpClD"
      },
      "execution_count": null,
      "outputs": []
    },
    {
      "cell_type": "markdown",
      "source": [],
      "metadata": {
        "id": "6XOPAS69kE0u"
      }
    },
    {
      "cell_type": "markdown",
      "source": [],
      "metadata": {
        "id": "SxXAZkmjkE9Z"
      }
    },
    {
      "cell_type": "markdown",
      "source": [
        "\n"
      ],
      "metadata": {
        "id": "72KltpwikFEL"
      }
    },
    {
      "cell_type": "markdown",
      "source": [],
      "metadata": {
        "id": "fNKuBk-xobV1"
      }
    },
    {
      "cell_type": "code",
      "source": [],
      "metadata": {
        "id": "j-Y5SN3Xob_v"
      },
      "execution_count": null,
      "outputs": []
    },
    {
      "cell_type": "markdown",
      "source": [],
      "metadata": {
        "id": "18xnaeePoeIr"
      }
    },
    {
      "cell_type": "code",
      "source": [
        "nama_siswa_4=\"Azkal\"\n",
        "nama_siswa_5=\"Hasim\"\n",
        "nama_siswa_6=\"Chilmi\"\n",
        "nama_siswa_7=\"Nova\"\n",
        "\n",
        "print(nama_siswa_6, end=\"~\")\n",
        "print(nama_siswa_4)\n",
        "\n",
        "print(nama_siswa_5, end=\"-\")\n",
        "print(nama_siswa_7)\n",
        "\n",
        "print(nama_siswa_4, end=\"/\")\n",
        "print(nama_siswa_7, end=\"&\")\n",
        "print(nama_siswa_5)"
      ],
      "metadata": {
        "colab": {
          "base_uri": "https://localhost:8080/"
        },
        "id": "0W1_VuMooee4",
        "outputId": "3101a061-8da5-41ef-84e8-a989673b555b"
      },
      "execution_count": null,
      "outputs": [
        {
          "output_type": "stream",
          "name": "stdout",
          "text": [
            "Chilmi~Azkal\n",
            "Hasim-Nova\n",
            "Azkal/Nova&Hasim\n"
          ]
        }
      ]
    },
    {
      "cell_type": "markdown",
      "source": [],
      "metadata": {
        "id": "756wxeFFtS6r"
      }
    },
    {
      "cell_type": "code",
      "source": [
        "nama_siswa_1=\"Dinda\"\n",
        "nama_siswa_2=\"Aurin\"\n",
        "nama_siswa_3=\"Lisaan\"\n",
        "\n",
        "\n",
        "print(nama_siswa_3, nama_siswa_2, nama_siswa_3, nama_siswa_1, sep=\"/\")\n",
        "\n"
      ],
      "metadata": {
        "colab": {
          "base_uri": "https://localhost:8080/"
        },
        "id": "n7W9qZpglmwK",
        "outputId": "38d85306-3e80-4077-dd15-8b3e6c2339f3"
      },
      "execution_count": null,
      "outputs": [
        {
          "output_type": "stream",
          "name": "stdout",
          "text": [
            "Lisaan/Aurin/Lisaan/Dinda\n"
          ]
        }
      ]
    },
    {
      "cell_type": "markdown",
      "source": [],
      "metadata": {
        "id": "BVG8hQcfjoMr"
      }
    }
  ]
}